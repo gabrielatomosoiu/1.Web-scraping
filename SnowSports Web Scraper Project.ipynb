{
 "cells": [
  {
   "cell_type": "code",
   "execution_count": 1,
   "id": "77bdef21",
   "metadata": {},
   "outputs": [],
   "source": [
    "# Import libraries needed for web scrapping, data manipulation and e-mail functionality\n",
    "\n",
    "from bs4 import BeautifulSoup\n",
    "import requests\n",
    "import time\n",
    "import datetime\n",
    "\n",
    "import smtplib"
   ]
  },
  {
   "cell_type": "code",
   "execution_count": 2,
   "id": "17e6fb69",
   "metadata": {},
   "outputs": [
    {
     "name": "stdout",
     "output_type": "stream",
     "text": [
      "\n",
      "\n",
      "           Geaca Hanorac Protest PRTCOMO  Huntergreen\n",
      "          \n",
      "\n",
      "\n",
      "             384,00\n",
      "\t\t\tLei\n",
      "            \n"
     ]
    }
   ],
   "source": [
    "# Connect to the website and pull in data\n",
    "\n",
    "# Set the website address of the specific snowboard gear that I'm interested in\n",
    "\n",
    "URL = \"https://snowsports.ro/geci/geaca-hanorac-protest-prtcomo-huntergreen.html\"\n",
    "\n",
    "# Create a disguise (headers) to access the website like a regular browser\n",
    "\n",
    "headers = {\"User-Agent\": \"Mozilla/5.0 (Windows NT 10.0; Win64; x64) AppleWebKit/537.36 (KHTML, like Gecko) Chrome/78.0.3904.108 Safari/537.36\", \"Accept-Encoding\":\"gzip, deflate\", \"Accept\":\"text/html,application/xhtml+xml,application/xml;q=0.9,*/*;q=0.8\", \"DNT\":\"1\",\"Connection\":\"close\", \"Upgrade-Insecure-Requests\":\"1\"}\n",
    "\n",
    "# Download the website content\n",
    "\n",
    "page = requests.get(URL, headers=headers)\n",
    "\n",
    "# Make the downloaded content easier to understand and work with\n",
    "\n",
    "soup1 = BeautifulSoup(page.content, \"html.parser\")\n",
    "soup2 = BeautifulSoup(soup1.prettify(), \"html.parser\")\n",
    "\n",
    "# Extract the product title and the price from the website\n",
    "\n",
    "title = soup2.find('h1', attrs={'class':'title'}).get_text()\n",
    "price = soup2.find(class_=\"fPrice -g-product-final-price-14376\").get_text()\n",
    "\n",
    "## Another option I discovered = soup2.find('span', attrs={'class':'fPrice -g-product-final-price-14376'}).get_text()\n",
    "\n",
    "print(title)\n",
    "print(price)"
   ]
  },
  {
   "cell_type": "code",
   "execution_count": 3,
   "id": "94f7e3c8",
   "metadata": {},
   "outputs": [
    {
     "name": "stdout",
     "output_type": "stream",
     "text": [
      "Geaca Hanorac Protest PRTCOMO  Huntergreen\n",
      "384.0\n"
     ]
    }
   ],
   "source": [
    "# Clean up the data a little bit\n",
    "\n",
    "# Clean up the extracted title (remove extra spaces)\n",
    "\n",
    "title = title.strip()\n",
    "\n",
    "# Clean up the extracted price (remove unwanted characters and convert to float)\n",
    "\n",
    "price = price.strip()[0:-3]\n",
    "price = price.strip()\n",
    "price = float(price.replace(\",\", \".\"))\n",
    "\n",
    "print(title)\n",
    "print(price)"
   ]
  },
  {
   "cell_type": "code",
   "execution_count": 4,
   "id": "6383e8e6",
   "metadata": {},
   "outputs": [
    {
     "name": "stdout",
     "output_type": "stream",
     "text": [
      "2024-02-29\n"
     ]
    }
   ],
   "source": [
    "# Get today's date\n",
    "\n",
    "import datetime\n",
    "\n",
    "today = datetime.date.today()\n",
    "print(today)"
   ]
  },
  {
   "cell_type": "code",
   "execution_count": 5,
   "id": "3548822f",
   "metadata": {},
   "outputs": [],
   "source": [
    "# Create CSV and header row for the CSV file\n",
    "\n",
    "import csv \n",
    "\n",
    "header = ['Title', 'Price', 'Date']\n",
    "\n",
    "# Create a list to store the extracted data\n",
    "\n",
    "data = [title, price, today]\n",
    "\n",
    "# Open the CSV file\n",
    "\n",
    "with open('SnowSportsWebScraperDataset.csv', 'w', newline='', encoding='UTF8') as f:\n",
    "\n",
    "    # Create a CSV writer object\n",
    "    \n",
    "    writer = csv.writer(f)\n",
    "    \n",
    "    # If the CSV file is empty, write the header row\n",
    "    \n",
    "    writer.writerow(header) # Comment if the header is already written\n",
    "    \n",
    "    # Write the extracted data to the CSV file\n",
    "    \n",
    "    writer.writerow(data)"
   ]
  },
  {
   "cell_type": "code",
   "execution_count": 6,
   "id": "7d9e426f",
   "metadata": {},
   "outputs": [
    {
     "name": "stdout",
     "output_type": "stream",
     "text": [
      "                                        Title  Price        Date\n",
      "0  Geaca Hanorac Protest PRTCOMO  Huntergreen  384.0  2024-02-29\n"
     ]
    }
   ],
   "source": [
    "# Import pandas for data analysis\n",
    "\n",
    "import pandas as pd\n",
    "\n",
    "# Read the saved data from the CSV file\n",
    "\n",
    "df = pd.read_csv(r'C:\\Users\\gabri\\SnowSportsWebScraperDataset.csv')\n",
    "\n",
    "# Print the analyzed data (price history)\n",
    "\n",
    "print(df)"
   ]
  },
  {
   "cell_type": "code",
   "execution_count": 7,
   "id": "c3244ba0",
   "metadata": {},
   "outputs": [],
   "source": [
    "#Now we are appending data to the csv\n",
    "\n",
    "with open('SnowSportsWebScraperDataset.csv', 'a+', newline='', encoding='UTF8') as f:\n",
    "    writer = csv.writer(f)\n",
    "    ##writer.writerow(header)\n",
    "    writer.writerow(data)"
   ]
  },
  {
   "cell_type": "code",
   "execution_count": 8,
   "id": "51a1b646",
   "metadata": {},
   "outputs": [],
   "source": [
    "#Combine all of the above code and into one function\n",
    "\n",
    "    def check_price():\n",
    "        URL = \"https://snowsports.ro/geci/geaca-hanorac-protest-prtcomo-huntergreen.html\"\n",
    "\n",
    "        headers = {\"User-Agent\": \"Mozilla/5.0 (Windows NT 10.0; Win64; x64) AppleWebKit/537.36 (KHTML, like Gecko) Chrome/78.0.3904.108 Safari/537.36\", \"Accept-Encoding\":\"gzip, deflate\", \"Accept\":\"text/html,application/xhtml+xml,application/xml;q=0.9,*/*;q=0.8\", \"DNT\":\"1\",\"Connection\":\"close\", \"Upgrade-Insecure-Requests\":\"1\"}\n",
    "\n",
    "        page = requests.get(URL, headers=headers)\n",
    "\n",
    "        soup1 = BeautifulSoup(page.content, \"html.parser\")\n",
    "        soup2 = BeautifulSoup(soup1.prettify(), \"html.parser\")\n",
    "\n",
    "        title = soup2.find('h1', attrs={'class':'title'}).get_text()\n",
    "        price = soup2.find(class_=\"fPrice -g-product-final-price-14376\").get_text()\n",
    "\n",
    "        title = title.strip()\n",
    "        price = price.strip()[0:-3]\n",
    "        price = price.strip()\n",
    "        price = float(price.replace(\",\", \".\"))\n",
    "\n",
    "        import datetime\n",
    "        today = datetime.date.today()\n",
    "\n",
    "        import csv \n",
    "\n",
    "        header = ['Title', 'Price', 'Date']\n",
    "        data = [title, price, today]\n",
    "\n",
    "\n",
    "        with open('SnowSportsWebScraperDataset.csv', 'a+', newline='', encoding='UTF8') as f:\n",
    "            writer = csv.writer(f)\n",
    "            ##writer.writerow(header)\n",
    "            writer.writerow(data)\n",
    "\n",
    "        # Send an email notification if the price falls below a certain level     \n",
    "            \n",
    "        if (price < 384):\n",
    "            send_mail"
   ]
  },
  {
   "cell_type": "code",
   "execution_count": null,
   "id": "f4291de6",
   "metadata": {},
   "outputs": [],
   "source": [
    "# Runs the check_price function every 12 hours (43200 seconds) and inputs data into CSV\n",
    "\n",
    "while(True):\n",
    "    check_price()\n",
    "    time.sleep(43200)"
   ]
  },
  {
   "cell_type": "code",
   "execution_count": null,
   "id": "bea185e6",
   "metadata": {},
   "outputs": [],
   "source": [
    "import pandas as pd\n",
    "\n",
    "df = pd.read_csv(r'C:\\Users\\gabri\\SnowSportsWebScraperDataset.csv')\n",
    "\n",
    "print(df)"
   ]
  },
  {
   "cell_type": "code",
   "execution_count": null,
   "id": "b4c3c195",
   "metadata": {},
   "outputs": [],
   "source": [
    "# Send an email notification if the price falls below a certain level\n",
    "\n",
    "def send_mail():\n",
    "    \n",
    "    #Connect to the Gmail server using secure connection\n",
    "    \n",
    "    server = smtplib.SMTP_SSL('smtp.gmail.com',465)\n",
    "    \n",
    "    # Initiate communication with the server\n",
    "    \n",
    "    server.ehlo()\n",
    "    \n",
    "    # Send identification information to the server again (sometimes required)\n",
    "    \n",
    "    server.ehlo()\n",
    "    \n",
    "    # Log in to the email account using credentials\n",
    "    \n",
    "    server.login('email@gmail.com','password')\n",
    "    \n",
    "    # Define the email subject and body content\n",
    "        \n",
    "    subject = \"The Snowboard gear you want is below 384 RON! Now is your chance to buy!\"\n",
    "    body = \"This is the moment we have been waiting for. Now is your chance to pick up the gear of your dreams. Don't mess it up! Link here: https://snowsports.ro/geci/geaca-hanorac-protest-prtcomo-huntergreen.html\"\n",
    "   \n",
    "    # Combine the subject and body into a single message string\n",
    "\n",
    "    msg = f\"Subject: {subject}\\n\\n{body}\"\n",
    "    \n",
    "    # Send the email to the specified recipient address\n",
    "    \n",
    "    server.sendmail(\n",
    "        'email@gmail.com',\n",
    "        msg)\n",
    "    \n",
    "    # Close the connection to the server\n",
    "    server.quit()\n"
   ]
  }
 ],
 "metadata": {
  "kernelspec": {
   "display_name": "Python 3 (ipykernel)",
   "language": "python",
   "name": "python3"
  },
  "language_info": {
   "codemirror_mode": {
    "name": "ipython",
    "version": 3
   },
   "file_extension": ".py",
   "mimetype": "text/x-python",
   "name": "python",
   "nbconvert_exporter": "python",
   "pygments_lexer": "ipython3",
   "version": "3.11.5"
  }
 },
 "nbformat": 4,
 "nbformat_minor": 5
}
